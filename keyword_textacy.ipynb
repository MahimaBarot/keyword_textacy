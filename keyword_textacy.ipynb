{
  "nbformat": 4,
  "nbformat_minor": 5,
  "metadata": {
    "kernelspec": {
      "display_name": "Python 3",
      "language": "python",
      "name": "python3"
    },
    "language_info": {
      "codemirror_mode": {
        "name": "ipython",
        "version": 3
      },
      "file_extension": ".py",
      "mimetype": "text/x-python",
      "name": "python",
      "nbconvert_exporter": "python",
      "pygments_lexer": "ipython3",
      "version": "3.7.10"
    },
    "colab": {
      "name": "keyword_textacy.ipynb",
      "provenance": [],
      "collapsed_sections": []
    }
  },
  "cells": [
    {
      "cell_type": "code",
      "metadata": {
        "id": "fitted-chancellor"
      },
      "source": [
        "!pip install textacy==0.9.1\n",
        "!python -m spacy download en_core_web_sm\n"
      ],
      "id": "fitted-chancellor",
      "execution_count": null,
      "outputs": []
    },
    {
      "cell_type": "code",
      "metadata": {
        "id": "confused-display"
      },
      "source": [
        "import spacy\n",
        "import textacy.ke\n",
        "from textacy import *\n",
        "import os \n",
        "import pandas as pd\n",
        "from glob import glob "
      ],
      "id": "confused-display",
      "execution_count": null,
      "outputs": []
    },
    {
      "cell_type": "code",
      "metadata": {
        "colab": {
          "base_uri": "https://localhost:8080/"
        },
        "id": "rKB_Ll-HHVab",
        "outputId": "6170c50d-0dbb-4f05-93af-7986b1fc49c3"
      },
      "source": [
        "from google.colab import drive\n",
        "drive.mount('/content/drive')"
      ],
      "id": "rKB_Ll-HHVab",
      "execution_count": null,
      "outputs": [
        {
          "output_type": "stream",
          "text": [
            "Mounted at /content/drive\n"
          ],
          "name": "stdout"
        }
      ]
    },
    {
      "cell_type": "code",
      "metadata": {
        "id": "Y7nDRm6nHmEH"
      },
      "source": [
        "filenames = []\n",
        "sorted_filenames=[]\n",
        "listnames = glob(r'/content/drive/MyDrive/nlp/*.txt')\n",
        "for location in listnames:\n",
        "    filenames.append(location.split('\\\\')[-1])\n",
        "sorted_filenames = sorted(filenames)"
      ],
      "id": "Y7nDRm6nHmEH",
      "execution_count": null,
      "outputs": []
    },
    {
      "cell_type": "code",
      "metadata": {
        "id": "qXhmzx6_Hl-Z"
      },
      "source": [
        "array_text = []\n",
        "for l in sorted_filenames:\n",
        "  with open(l) as f:\n",
        "    text_clean=f.read().replace('\\n' , ' ').replace(\"\\'\", \"\")\n",
        "    array_text.append(text_clean[0:5000])"
      ],
      "id": "qXhmzx6_Hl-Z",
      "execution_count": null,
      "outputs": []
    },
    {
      "cell_type": "code",
      "metadata": {
        "id": "related-knock"
      },
      "source": [
        "#Load a spacy model, which will be used for all further processing.\n",
        "en = textacy.load_spacy_lang(\"en_core_web_sm\")\n",
        "\n",
        "#Let us use a sample text file, nlphistory.txt, which is the text from the history section of Wikipedia's\n",
        "#page on Natural Language Processing \n",
        "#https://en.wikipedia.org/wiki/Natural_language_processing\n",
        "df = pd.DataFrame(columns=['links','keywords'])\n",
        "for j in range(len(array_text)):\n",
        "  doc = textacy.make_spacy_doc(array_text[j], lang=en)\n",
        "  keywords = textacy.ke.sgrank(doc, topn=5)\n",
        "  for i in range(len(keywords)):\n",
        "         df = df.append({'keywords': keywords[i],'links': sorted_filenames[j]}, ignore_index=True)\n",
        "\n",
        "#convert the text into a spacy document.\n"
      ],
      "id": "related-knock",
      "execution_count": null,
      "outputs": []
    },
    {
      "cell_type": "code",
      "metadata": {
        "id": "98Rb28EHG1z0"
      },
      "source": [
        "df[['keywords', 'rate']] = pd.DataFrame(df['keywords'].tolist(), index=df.index)"
      ],
      "id": "98Rb28EHG1z0",
      "execution_count": null,
      "outputs": []
    },
    {
      "cell_type": "code",
      "metadata": {
        "id": "capable-airplane"
      },
      "source": [
        "df=df.drop(['rate'], axis=1)"
      ],
      "id": "capable-airplane",
      "execution_count": null,
      "outputs": []
    },
    {
      "cell_type": "code",
      "metadata": {
        "id": "ucrY_2i2Iaj7"
      },
      "source": [
        "df=df.groupby('keywords')['links'].apply(','.join).reset_index()\n"
      ],
      "id": "ucrY_2i2Iaj7",
      "execution_count": null,
      "outputs": []
    },
    {
      "cell_type": "code",
      "metadata": {
        "colab": {
          "base_uri": "https://localhost:8080/",
          "height": 419
        },
        "id": "lQg3i6seJWjJ",
        "outputId": "2528a7c0-a0b7-422b-dbdb-2008b36adf44"
      },
      "source": [
        "df"
      ],
      "id": "lQg3i6seJWjJ",
      "execution_count": null,
      "outputs": [
        {
          "output_type": "execute_result",
          "data": {
            "text/html": [
              "<div>\n",
              "<style scoped>\n",
              "    .dataframe tbody tr th:only-of-type {\n",
              "        vertical-align: middle;\n",
              "    }\n",
              "\n",
              "    .dataframe tbody tr th {\n",
              "        vertical-align: top;\n",
              "    }\n",
              "\n",
              "    .dataframe thead th {\n",
              "        text-align: right;\n",
              "    }\n",
              "</style>\n",
              "<table border=\"1\" class=\"dataframe\">\n",
              "  <thead>\n",
              "    <tr style=\"text-align: right;\">\n",
              "      <th></th>\n",
              "      <th>keywords</th>\n",
              "      <th>links</th>\n",
              "    </tr>\n",
              "  </thead>\n",
              "  <tbody>\n",
              "    <tr>\n",
              "      <th>0</th>\n",
              "      <td>API integration</td>\n",
              "      <td>/content/drive/MyDrive/nlp/Release 4.11.txt</td>\n",
              "    </tr>\n",
              "    <tr>\n",
              "      <th>1</th>\n",
              "      <td>Audit Job Report</td>\n",
              "      <td>/content/drive/MyDrive/nlp/Release 4.10.txt</td>\n",
              "    </tr>\n",
              "    <tr>\n",
              "      <th>2</th>\n",
              "      <td>Audit Jobs</td>\n",
              "      <td>/content/drive/MyDrive/nlp/Creating Clients an...</td>\n",
              "    </tr>\n",
              "    <tr>\n",
              "      <th>3</th>\n",
              "      <td>Audit Menu</td>\n",
              "      <td>/content/drive/MyDrive/nlp/Creating Client and...</td>\n",
              "    </tr>\n",
              "    <tr>\n",
              "      <th>4</th>\n",
              "      <td>BGL</td>\n",
              "      <td>/content/drive/MyDrive/nlp/Multi Factor Authen...</td>\n",
              "    </tr>\n",
              "    <tr>\n",
              "      <th>...</th>\n",
              "      <td>...</td>\n",
              "      <td>...</td>\n",
              "    </tr>\n",
              "    <tr>\n",
              "      <th>59</th>\n",
              "      <td>schedule line item</td>\n",
              "      <td>/content/drive/MyDrive/nlp/External Query Modu...</td>\n",
              "    </tr>\n",
              "    <tr>\n",
              "      <th>60</th>\n",
              "      <td>status view</td>\n",
              "      <td>/content/drive/MyDrive/nlp/Customising Dashboa...</td>\n",
              "    </tr>\n",
              "    <tr>\n",
              "      <th>61</th>\n",
              "      <td>tax Assets</td>\n",
              "      <td>/content/drive/MyDrive/nlp/Automatic Reports L...</td>\n",
              "    </tr>\n",
              "    <tr>\n",
              "      <th>62</th>\n",
              "      <td>video</td>\n",
              "      <td>/content/drive/MyDrive/nlp/Generating Shared T...</td>\n",
              "    </tr>\n",
              "    <tr>\n",
              "      <th>63</th>\n",
              "      <td>video capture</td>\n",
              "      <td>/content/drive/MyDrive/nlp/Changing Software.txt</td>\n",
              "    </tr>\n",
              "  </tbody>\n",
              "</table>\n",
              "<p>64 rows × 2 columns</p>\n",
              "</div>"
            ],
            "text/plain": [
              "              keywords                                              links\n",
              "0      API integration        /content/drive/MyDrive/nlp/Release 4.11.txt\n",
              "1     Audit Job Report        /content/drive/MyDrive/nlp/Release 4.10.txt\n",
              "2           Audit Jobs  /content/drive/MyDrive/nlp/Creating Clients an...\n",
              "3           Audit Menu  /content/drive/MyDrive/nlp/Creating Client and...\n",
              "4                  BGL  /content/drive/MyDrive/nlp/Multi Factor Authen...\n",
              "..                 ...                                                ...\n",
              "59  schedule line item  /content/drive/MyDrive/nlp/External Query Modu...\n",
              "60         status view  /content/drive/MyDrive/nlp/Customising Dashboa...\n",
              "61          tax Assets  /content/drive/MyDrive/nlp/Automatic Reports L...\n",
              "62               video  /content/drive/MyDrive/nlp/Generating Shared T...\n",
              "63       video capture   /content/drive/MyDrive/nlp/Changing Software.txt\n",
              "\n",
              "[64 rows x 2 columns]"
            ]
          },
          "metadata": {
            "tags": []
          },
          "execution_count": 29
        }
      ]
    },
    {
      "cell_type": "code",
      "metadata": {
        "id": "QLP4QjC-IcyU"
      },
      "source": [
        "df.to_csv('audit_keywords_textacy.csv',index=False)"
      ],
      "id": "QLP4QjC-IcyU",
      "execution_count": null,
      "outputs": []
    },
    {
      "cell_type": "code",
      "metadata": {
        "id": "academic-minimum",
        "outputId": "e2e32f53-44e3-4422-8c43-405f9724117f"
      },
      "source": [
        "#Print the keywords using TextRank algorithm, as implemented in Textacy.\n",
        "print(\"Textrank output: \", [kps for kps, weights in textacy.ke.textrank(doc, normalize=\"lemma\", topn=5)])\\\n",
        "#Print the key words and phrases, using SGRank algorithm, as implemented in Textacy\n",
        "print(\"SGRank output: \", [kps for kps, weights in textacy.ke.sgrank(doc, topn=5)])"
      ],
      "id": "academic-minimum",
      "execution_count": null,
      "outputs": [
        {
          "output_type": "stream",
          "text": [
            "Textrank output:  ['role available', 'SMSF Sorted', 'permission available', 'article', 'table']\n",
            "SGRank output:  ['SMSF Sorted', 'permission available', 'role', 'role available', 'article']\n"
          ],
          "name": "stdout"
        }
      ]
    },
    {
      "cell_type": "code",
      "metadata": {
        "id": "identical-corpus",
        "outputId": "e89d1b92-b341-482c-9ee1-2aca7890e801"
      },
      "source": [
        "terms = set([term for term,weight in textacy.ke.sgrank(doc)])\n",
        "print(textacy.ke.utils.aggregate_term_variants(terms))"
      ],
      "id": "identical-corpus",
      "execution_count": null,
      "outputs": [
        {
          "output_type": "stream",
          "text": [
            "[{'Default Override'}, {'external party'}, {'portal default'}, {'new dashboard'}, {'default view'}, {'status view'}, {'new portal'}, {'Stage view'}, {'audit firm'}, {'audit job'}]\n"
          ],
          "name": "stdout"
        }
      ]
    },
    {
      "cell_type": "code",
      "metadata": {
        "id": "cognitive-idaho",
        "outputId": "70594548-7374-4b85-d1c1-0118738832d8"
      },
      "source": [
        "print([chunk for chunk in textacy.extract.noun_chunks(doc)])"
      ],
      "id": "cognitive-idaho",
      "execution_count": null,
      "outputs": [
        {
          "output_type": "stream",
          "text": [
            "[2 more API updates, BGL, 360 observations, reports, it, our 1st additional module offer, Our new worksheet module, additional functionality, spreadsheets, additional formats, \n",
            "\n",
            "BGL, 360 New API Integrations, We, 2 new API integrations, BGl, our observations, financial reports, Annual Return, PDF format, Investment Income Comparison, BGL report, we, income, credits, listed holdings, BGL, data, ASX estimates, items, We, electronic copy, report, our Financial Reports section, already existing Investment Movement Report, Members Statement, new API, benefits, members, < 60 observation, job creation, Members Statement, electronic format, Financial Reports section, API, previous year's balance, salary and insurance information, BGL, information, API, what, Class jobs, Jobs, release, report, Jobs, release, report, ability, Members Statement, Financial Reports section, observation, report, job, same functions, Spreadsheet Module, module, users, Excel files, Cloudoffis, module, standard subscription, structure, pricing, functionality, our sales team, E, sales@cloudoffis.com.au, P, option, We, bugs, our queries]\n"
          ],
          "name": "stdout"
        }
      ]
    },
    {
      "cell_type": "code",
      "metadata": {
        "id": "naval-egyptian"
      },
      "source": [
        ""
      ],
      "id": "naval-egyptian",
      "execution_count": null,
      "outputs": []
    }
  ]
}